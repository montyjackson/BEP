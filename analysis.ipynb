{
 "cells": [
  {
   "cell_type": "code",
   "execution_count": 1,
   "metadata": {},
   "outputs": [
    {
     "name": "stderr",
     "output_type": "stream",
     "text": [
      "C:\\Users\\mj636\\AppData\\Local\\Temp\\ipykernel_39248\\2378133804.py:2: DeprecationWarning: \n",
      "Pyarrow will become a required dependency of pandas in the next major release of pandas (pandas 3.0),\n",
      "(to allow more performant data types, such as the Arrow string type, and better interoperability with other libraries)\n",
      "but was not found to be installed on your system.\n",
      "If this would cause problems for you,\n",
      "please provide us feedback at https://github.com/pandas-dev/pandas/issues/54466\n",
      "        \n",
      "  import pandas as pd\n"
     ]
    }
   ],
   "source": [
    "import csv\n",
    "import pandas as pd\n",
    "import os\n",
    "import matplotlib.pyplot as plt\n",
    "import numpy as np\n"
   ]
  },
  {
   "cell_type": "code",
   "execution_count": 9,
   "metadata": {},
   "outputs": [],
   "source": [
    "# Read the data and filter out the schools\n",
    "data = pd.read_csv(os.path.join('data', 'certificates.csv'))\n",
    "target_cat = 'Schools And Seasonal Public Buildings'\n",
    "schools = data[data['MAIN_BENCHMARK'].str.lower() == target_cat.lower()]"
   ]
  },
  {
   "cell_type": "code",
   "execution_count": 12,
   "metadata": {},
   "outputs": [],
   "source": [
    "def remove_duplicate_buildings(schools):\n",
    "    #Sort data by date\n",
    "    schools = schools.sort_values(by='LODGEMENT_DATE')\n",
    "\n",
    "    # Remove duplicate buildings based on the 'BUILDING_REFERENCE_NUMBER' column\n",
    "    schools_sorted = schools.drop_duplicates(subset='BUILDING_REFERENCE_NUMBER', keep='first')\n",
    "    \n",
    "    return schools_sorted\n",
    "schools_sorted = remove_duplicate_buildings(schools)\n",
    "schools_sorted.to_csv('schools_sorted.csv', index=False)"
   ]
  },
  {
   "cell_type": "code",
   "execution_count": null,
   "metadata": {},
   "outputs": [],
   "source": []
  }
 ],
 "metadata": {
  "kernelspec": {
   "display_name": "base",
   "language": "python",
   "name": "python3"
  },
  "language_info": {
   "codemirror_mode": {
    "name": "ipython",
    "version": 3
   },
   "file_extension": ".py",
   "mimetype": "text/x-python",
   "name": "python",
   "nbconvert_exporter": "python",
   "pygments_lexer": "ipython3",
   "version": "3.11.5"
  }
 },
 "nbformat": 4,
 "nbformat_minor": 2
}
